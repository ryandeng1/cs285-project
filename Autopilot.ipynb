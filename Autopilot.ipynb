{
 "cells": [
  {
   "cell_type": "code",
   "execution_count": 49,
   "metadata": {},
   "outputs": [],
   "source": [
    "import numpy as np\n",
    "import matplotlib.pyplot as plt\n",
    "import math"
   ]
  },
  {
   "cell_type": "code",
   "execution_count": 50,
   "metadata": {},
   "outputs": [],
   "source": [
    "dtheta= np.pi/4\n",
    "EAST = 0\n",
    "NORTH = np.pi/2\n",
    "WEST = np.pi\n",
    "SOUTH = 3*np.pi/2"
   ]
  },
  {
   "cell_type": "code",
   "execution_count": 51,
   "metadata": {},
   "outputs": [],
   "source": [
    "def closed_form_autopilot(x, y, theta, v, dtheta):\n",
    "    # Determine the distance needed to complete U-turn, quarter_turn\n",
    "    # Use Law of Sines to determine radius of turn circle\n",
    "    rad = v*np.sin((np.pi-dtheta)/2)/np.sin(dtheta)\n",
    "    quarter_turn_dist = rad\n",
    "    U_turn_dist = 2*rad\n",
    "    \n",
    "    # Assume Runway can only be approached from the east side, and the arrival point is at (0,0)\n",
    "    \n",
    "    # Return straight heading if plane is already on track to land\n",
    "    if x > 0 and np.isclose(y,0) and theta > np.pi-dtheta and theta < np.pi+dtheta:\n",
    "        return min(np.pi-theta, dtheta) if np.pi-theta > 0 else max(np.pi-theta, -dtheta) # adjust heading to be np.pi\n",
    "\n",
    "    # If in front of runway, adjust heading so that landing can happen\n",
    "    # Landing zone is defined as a strip starting rad to the right of the landing strip\n",
    "    # and extending from y=-rad to y=rad. \n",
    "    if x > 0 and y >= -rad and y <= rad:\n",
    "        # Define cases based on y coordinate, and east vs. west heading\n",
    "        if theta > np.pi/2 and theta < 3*np.pi/2:\n",
    "            # determine the angle to approach y = 0 if close enough\n",
    "            if y > 0 and (theta >= np.pi or theta+dtheta >= np.pi) and y <= v*np.sin(dtheta):\n",
    "                #print('e')\n",
    "                return max(-dtheta, min(np.arcsin(y/v)+np.pi-theta, dtheta))\n",
    "            if y < 0 and (theta <= np.pi or theta-dtheta <= np.pi) and y >= -v*np.sin(dtheta):\n",
    "                #print('e')\n",
    "                return min(dtheta, max(np.pi-np.arcsin(abs(y)/v)-theta,-dtheta))\n",
    "                \n",
    "            #     target_theta = 3*np.pi/2 - np.arccos(y/v) if y >= 0 else np.pi/2+np.arccos(y/v)\n",
    "            #     return max(target_theta-theta, -dtheta) if target_theta-theta <= 0 else min(target_theta, dtheta)\n",
    "            \n",
    "            # Adjust to trajectory that assures a proper descent angle\n",
    "            if y > 0 and theta > np.pi:\n",
    "                if theta - np.pi > np.arctan(y/(x-rad)) and theta - np.pi < dtheta:\n",
    "                    #print('a')\n",
    "                    return 0\n",
    "                elif x > 1.5*rad and y/np.tan(theta-np.pi) > x-1.5*rad:\n",
    "                    #print('b')\n",
    "                    # if theta - np.pi >= dtheta or y/np.tan(dtheta) > x-rad:\n",
    "                    return min(dtheta,max(3*np.pi/2-theta,-dtheta))\n",
    "                    # else:\n",
    "                    #     return min(dtheta+np.pi-theta, dtheta)\n",
    "                elif theta - np.pi > (x-1.5*rad)//v*dtheta or y < (v*np.sin(theta-np.pi))*((x-1.5*rad)//v+1):\n",
    "                    #print('c',np.arctan(y/(x-rad))+np.pi-theta, theta-np.pi)\n",
    "                    return max(min(np.arctan(y/(x-1.5*rad))+np.pi-theta,theta), -dtheta)\n",
    "                else:\n",
    "                    #print('d', dtheta+np.pi-theta)\n",
    "                    return 0#min(dtheta+np.pi-theta, dtheta)\n",
    "            elif y < 0 and theta < np.pi:\n",
    "                if np.pi - theta > np.arctan(abs(y)/(x-rad)) and np.pi - theta < dtheta:\n",
    "                    #print('a')\n",
    "                    return 0\n",
    "                elif x > 1.5*rad and abs(y)/np.tan(np.pi-theta) > x-1.5*rad:\n",
    "                    #print('b')\n",
    "                    # if np.pi - theta >= dtheta or abs(y)/np.tan(dtheta) > x-rad:\n",
    "                    return max(-dtheta,min(np.pi/2-theta,dtheta))\n",
    "                    # else:\n",
    "                    #     return max(np.pi-dtheta-theta, -dtheta)\n",
    "                elif np.pi - theta > (x-1.5*rad)//v*dtheta or y > (-v*np.sin(np.pi-theta))*((x-1.5*rad)//v+1):\n",
    "                    #print('c',np.pi-np.arctan(abs(y)/(x-rad))-theta, np.pi-theta)\n",
    "                    return min(max(np.pi - np.arctan(abs(y)/(x-1.5*rad))-theta,-theta), dtheta)\n",
    "                else:\n",
    "                    #print('d')\n",
    "                    return 0#max(np.pi-dtheta-theta, -dtheta)\n",
    "            elif y >= 0 and theta <= np.pi:\n",
    "                return dtheta\n",
    "            else:\n",
    "                return -dtheta\n",
    "        elif theta < np.pi/2: # heading east\n",
    "            return min(dtheta, max(np.pi/2-theta,-dtheta))\n",
    "        elif theta > 3*np.pi/2:\n",
    "            return max(min(3*np.pi/2-theta,dtheta), -dtheta)\n",
    "        else: # straight up or straight down\n",
    "            return dtheta if np.isclose(theta, np.pi/2) else -dtheta\n",
    "    # If in front of runway, between rad and 2*rad north or south of the landing axis\n",
    "    if x > 0 and (y >= -2*rad and y < -rad) or (y > rad and y <= 2*rad):\n",
    "        # Adjust to go either straight up or straight down\n",
    "        if theta < np.pi:\n",
    "            return min(np.pi/2-theta,dtheta) if theta < np.pi/2 else max(np.pi/2-theta,-dtheta)\n",
    "        else:\n",
    "            return min(3*np.pi/2-theta,dtheta) if theta < 3*np.pi/2 else max(3*np.pi/2-theta,-dtheta)\n",
    "    # If east of the runway, beyond 2*rad north or south of the landing axis\n",
    "    if x > 2*rad and y > 2*rad:\n",
    "        # Circle clockwise until facing south\n",
    "        return max(-dtheta, -np.pi/2-theta) if theta < 3*np.pi/2 else max(-dtheta, 3*np.pi/2-theta)\n",
    "    if x > 2*rad and y < -2*rad:\n",
    "        # Circle counterclockwise until facing north\n",
    "        return min(dtheta, np.pi/2-theta) if theta < np.pi/2 else min(dtheta, 5*np.pi/2-theta)\n",
    "    # If west of the runway, between between -2*rad south and 2*rad north of landing axis\n",
    "    if y >= -2*rad and y <= 2*rad:\n",
    "        # move north or south to get clear of takeoff zone!\n",
    "        if theta < np.pi:\n",
    "            return min(dtheta, np.pi/2-theta) if theta < np.pi/2 else max(-dtheta,np.pi/2-theta)\n",
    "        else:\n",
    "            return min(dtheta, 3*np.pi/2-theta) if theta < 3*np.pi/2 else max(-dtheta,3*np.pi/2-theta)\n",
    "    # If west of the runway, below -2*rad south and above 2*rad north of landing axis\n",
    "    if y > 2*rad:\n",
    "        # Clockwise turn east\n",
    "        return max(-dtheta,0-theta)\n",
    "    if y < -2*rad:\n",
    "        # Counter-Clockwise turn east\n",
    "        return min(dtheta, 2*np.pi-theta)\n",
    "    # Unhandled cases go here\n",
    "    print(\"Unhandled case\")\n",
    "    raise Error()"
   ]
  },
  {
   "cell_type": "code",
   "execution_count": 52,
   "metadata": {},
   "outputs": [],
   "source": [
    "class Airplane():\n",
    "    def __init__(self, x, y, theta, v, dtheta):\n",
    "        self.x = x\n",
    "        self.y = y\n",
    "        self.log = np.reshape(np.array([x,y,theta]), (1,3))\n",
    "        self.theta = theta\n",
    "        self.v = v\n",
    "        self.dtheta = dtheta\n",
    "        self.rad = v*np.sin((np.pi-dtheta)/2)/np.sin(dtheta)\n",
    "    def update(self):\n",
    "        action = closed_form_autopilot(self.x, self.y, self.theta, self.v, self.dtheta)\n",
    "        assert abs(action) <= a.dtheta\n",
    "        self.theta = self.theta + action\n",
    "        if self.theta < 0:\n",
    "            self.theta += 2*np.pi\n",
    "        if self.theta > 2*np.pi:\n",
    "            self.theta -= 2*np.pi\n",
    "        self.x = self.x + self.v*np.cos(self.theta)\n",
    "        self.y = self.y + self.v*np.sin(self.theta)\n",
    "        self.log = np.append(self.log, np.reshape(np.array([self.x, self.y,self.theta]), (1,3)), axis=0)\n",
    "    def plot(self):\n",
    "        plt.plot(np.linspace(-10*self.rad, 10*self.rad, 100), [-2*self.rad]*100)\n",
    "        plt.plot(np.linspace(self.rad, 10*self.rad, 45), [-self.rad]*45)\n",
    "        plt.plot(np.linspace(-10*self.rad, 10*self.rad, 100), [0]*100)\n",
    "        plt.plot(np.linspace(self.rad, 10*self.rad, 45), [self.rad]*45)\n",
    "        plt.plot(np.linspace(-10*self.rad, 10*self.rad, 100), [2*self.rad]*100)\n",
    "        plt.plot([self.rad]*100, np.linspace(-4*self.rad,4*self.rad,100))\n",
    "        plt.scatter(0,0)\n",
    "        \n",
    "        plt.plot(self.log[:,0], self.log[:,1])\n",
    "        plt.show()"
   ]
  },
  {
   "cell_type": "markdown",
   "metadata": {},
   "source": [
    "Test cases:"
   ]
  },
  {
   "cell_type": "code",
   "execution_count": 53,
   "metadata": {},
   "outputs": [],
   "source": [
    "v = 200/3600 # miles per second\n",
    "dtheta = 3*np.pi/180 # radians per second\n",
    "rad = v*np.sin((np.pi-dtheta)/2)/np.sin(dtheta) # miles"
   ]
  },
  {
   "cell_type": "code",
   "execution_count": 54,
   "metadata": {},
   "outputs": [
    {
     "data": {
      "image/png": "[encoded data removed]",
      "text/plain": [
       "<Figure size 432x288 with 1 Axes>"
      ]
     },
     "metadata": {
      "needs_background": "light"
     },
     "output_type": "display_data"
    }
   ],
   "source": [
    "# First, and outline of the board (with landing zone at 0,0)\n",
    "plt.plot(np.linspace(-10*rad, 10*rad, 100), [-2*rad]*100)\n",
    "plt.plot(np.linspace(rad, 10*rad, 45), [-rad]*45)\n",
    "plt.plot(np.linspace(-10*rad, 10*rad, 100), [0]*100)\n",
    "plt.plot(np.linspace(rad, 10*rad, 45), [rad]*45)\n",
    "plt.plot(np.linspace(-10*rad, 10*rad, 100), [2*rad]*100)\n",
    "plt.plot([rad]*100, np.linspace(-4*rad,4*rad,100))\n",
    "plt.scatter(0,0)\n",
    "plt.show()"
   ]
  },
  {
   "cell_type": "code",
   "execution_count": 55,
   "metadata": {},
   "outputs": [
    {
     "data": {
      "image/png": "[encoded data removed]",
      "text/plain": [
       "<Figure size 432x288 with 1 Axes>"
      ]
     },
     "metadata": {
      "needs_background": "light"
     },
     "output_type": "display_data"
    }
   ],
   "source": [
    "# Plane on track to land\n",
    "a = Airplane(5, 0, np.pi, v, dtheta)\n",
    "for i in range(100):\n",
    "    a.update()\n",
    "    # print(a.x,a.y,a.theta)\n",
    "a.plot()"
   ]
  },
  {
   "cell_type": "code",
   "execution_count": 56,
   "metadata": {},
   "outputs": [
    {
     "data": {
      "image/png": "[encoded data removed]",
      "text/plain": [
       "<Figure size 432x288 with 1 Axes>"
      ]
     },
     "metadata": {
      "needs_background": "light"
     },
     "output_type": "display_data"
    }
   ],
   "source": [
    "a = Airplane(5, 0, 3*np.pi/4, v, dtheta)\n",
    "for i in range(100):\n",
    "    a.update()\n",
    "    #print(i,a.x,a.y,a.theta)\n",
    "a.plot()"
   ]
  },
  {
   "cell_type": "code",
   "execution_count": 57,
   "metadata": {
    "scrolled": true
   },
   "outputs": [
    {
     "data": {
      "image/png": "[encoded data removed]",
      "text/plain": [
       "<Figure size 432x288 with 1 Axes>"
      ]
     },
     "metadata": {
      "needs_background": "light"
     },
     "output_type": "display_data"
    }
   ],
   "source": [
    "a = Airplane(5, 0, 5*np.pi/4, v, dtheta)\n",
    "for i in range(100):\n",
    "    a.update()\n",
    "    # print(i,a.x,a.y,a.theta, 2*np.pi-a.theta)\n",
    "a.plot()"
   ]
  },
  {
   "cell_type": "code",
   "execution_count": 58,
   "metadata": {
    "scrolled": true
   },
   "outputs": [
    {
     "data": {
      "image/png": "[encoded data removed]",
      "text/plain": [
       "<Figure size 432x288 with 1 Axes>"
      ]
     },
     "metadata": {
      "needs_background": "light"
     },
     "output_type": "display_data"
    }
   ],
   "source": [
    "a = Airplane(5, 0, np.pi/2, v, dtheta)\n",
    "for i in range(100):\n",
    "    a.update()\n",
    "    #print(i,a.x,a.y,a.theta, 2*np.pi-a.theta)\n",
    "a.plot()"
   ]
  },
  {
   "cell_type": "code",
   "execution_count": 59,
   "metadata": {
    "scrolled": true
   },
   "outputs": [
    {
     "data": {
      "image/png": "[encoded data removed]",
      "text/plain": [
       "<Figure size 432x288 with 1 Axes>"
      ]
     },
     "metadata": {
      "needs_background": "light"
     },
     "output_type": "display_data"
    }
   ],
   "source": [
    "a = Airplane(5, 0, 3*np.pi/2, v, dtheta)\n",
    "for i in range(100):\n",
    "    a.update()\n",
    "    #print(i,a.x,a.y,a.theta, 2*np.pi-a.theta)\n",
    "a.plot()"
   ]
  },
  {
   "cell_type": "code",
   "execution_count": 60,
   "metadata": {
    "scrolled": true
   },
   "outputs": [
    {
     "data": {
      "image/png": "[encoded data removed]",
      "text/plain": [
       "<Figure size 432x288 with 1 Axes>"
      ]
     },
     "metadata": {
      "needs_background": "light"
     },
     "output_type": "display_data"
    }
   ],
   "source": [
    "a = Airplane(1.5*rad, 1.5*rad, -np.pi, v, dtheta)\n",
    "for i in range(300):\n",
    "    a.update()\n",
    "    # print(i,a.x,a.y,a.theta, 2*np.pi-a.theta)\n",
    "a.plot()"
   ]
  },
  {
   "cell_type": "code",
   "execution_count": 17,
   "metadata": {},
   "outputs": [
    {
     "data": {
      "text/plain": [
       "0.05555555555555555"
      ]
     },
     "execution_count": 17,
     "metadata": {},
     "output_type": "execute_result"
    }
   ],
   "source": [
    "v"
   ]
  },
  {
   "cell_type": "code",
   "execution_count": 18,
   "metadata": {},
   "outputs": [
    {
     "data": {
      "text/plain": [
       "1.0611541670586235"
      ]
     },
     "execution_count": 18,
     "metadata": {},
     "output_type": "execute_result"
    }
   ],
   "source": [
    "rad"
   ]
  },
  {
   "cell_type": "code",
   "execution_count": 48,
   "metadata": {},
   "outputs": [
    {
     "data": {
      "text/plain": [
       "0.05235987755982988"
      ]
     },
     "execution_count": 48,
     "metadata": {},
     "output_type": "execute_result"
    }
   ],
   "source": [
    "dtheta"
   ]
  },
  {
   "cell_type": "code",
   "execution_count": null,
   "metadata": {},
   "outputs": [],
   "source": []
  }
 ],
 "metadata": {
  "kernelspec": {
   "display_name": "Python 3",
   "language": "python",
   "name": "python3"
  },
  "language_info": {
   "codemirror_mode": {
    "name": "ipython",
    "version": 3
   },
   "file_extension": ".py",
   "mimetype": "text/x-python",
   "name": "python",
   "nbconvert_exporter": "python",
   "pygments_lexer": "ipython3",
   "version": "3.7.3"
  }
 },
 "nbformat": 4,
 "nbformat_minor": 2
}
